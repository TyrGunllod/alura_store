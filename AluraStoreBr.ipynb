{
  "nbformat": 4,
  "nbformat_minor": 0,
  "metadata": {
    "colab": {
      "provenance": [],
      "include_colab_link": true
    },
    "kernelspec": {
      "name": "python3",
      "display_name": "Python 3"
    },
    "language_info": {
      "name": "python"
    }
  },
  "cells": [
    {
      "cell_type": "markdown",
      "metadata": {
        "id": "view-in-github",
        "colab_type": "text"
      },
      "source": [
        "<a href=\"https://colab.research.google.com/github/TyrGunllod/alura_store/blob/main/AluraStoreBr.ipynb\" target=\"_parent\"><img src=\"https://colab.research.google.com/assets/colab-badge.svg\" alt=\"Open In Colab\"/></a>"
      ]
    },
    {
      "cell_type": "markdown",
      "source": [
        "### Importação dos dados\n",
        "\n"
      ],
      "metadata": {
        "id": "RhEdWd9YUR6H"
      }
    },
    {
      "cell_type": "code",
      "execution_count": null,
      "metadata": {
        "id": "T3EvaeQ_INIL"
      },
      "outputs": [],
      "source": [
        "import matplotlib\n",
        "import pandas as pd\n",
        "\n",
        "url = \"https://raw.githubusercontent.com/TyrGunllod/alura_store/refs/heads/main/dados_lojas/loja_1.csv\"\n",
        "url2 = \"https://raw.githubusercontent.com/TyrGunllod/alura_store/refs/heads/main/dados_lojas/loja_2.csv\"\n",
        "url3 = \"https://raw.githubusercontent.com/TyrGunllod/alura_store/refs/heads/main/dados_lojas/loja_3.csv\"\n",
        "url4 = \"https://raw.githubusercontent.com/TyrGunllod/alura_store/refs/heads/main/dados_lojas/loja_4.csv\"\n",
        "\n",
        "loja = pd.read_csv(url)\n",
        "loja2 = pd.read_csv(url2)\n",
        "loja3 = pd.read_csv(url3)\n",
        "loja4 = pd.read_csv(url4)\n",
        "\n",
        "loja.head()"
      ]
    },
    {
      "cell_type": "markdown",
      "source": [
        "Funções"
      ],
      "metadata": {
        "id": "ntMIfqlxG1d0"
      }
    },
    {
      "cell_type": "code",
      "source": [
        "#Pandas -  soma por coluna\n",
        "def soma_por_coluna(arquivo, coluna):\n",
        "  soma = arquivo[coluna].sum()\n",
        "  return soma"
      ],
      "metadata": {
        "id": "zERZhWUGZulS"
      },
      "execution_count": 36,
      "outputs": []
    },
    {
      "cell_type": "code",
      "source": [
        "\n",
        "#print('')\n",
        "\n",
        "#Pandas -  media avaliações\n",
        "avaliacoes_media = round(loja[\"Avaliação da compra\"].mean(), 2)\n",
        "print('Média das avaliações:', avaliacoes_media)\n",
        "print('')\n",
        "\n",
        "#Pandas -  Frete medio\n",
        "frete_medio = round(loja[\"Frete\"].mean(), 2)\n",
        "print('Frete Médio:', frete_medio)\n",
        "print('')\n",
        "\n",
        "#Pandas - soma de produtos do maior para o menor\n",
        "quantidade_produtos_por_tipo = loja.groupby(\"Produto\").size().sort_values(ascending=False)\n",
        "print(quantidade_produtos_por_tipo)\n",
        "print('')\n",
        "\n",
        "#Pandas - soma por categoria do maior para o menor\n",
        "soma_por_categoria = loja.groupby(\"Categoria do Produto\")[\"Preço\"].sum().sort_values(ascending=False)\n",
        "print(soma_por_categoria)\n",
        "print('')\n",
        "\n",
        "\n",
        "loja"
      ],
      "metadata": {
        "id": "y7QrToxWGzI8"
      },
      "execution_count": null,
      "outputs": []
    },
    {
      "cell_type": "markdown",
      "source": [
        "#1. Análise do faturamento\n"
      ],
      "metadata": {
        "id": "X62IW3KFUIYm"
      }
    },
    {
      "cell_type": "code",
      "source": [
        "faturamento_loja = []\n",
        "faturamento_loja.append(soma_por_coluna(loja, 'Preço'))\n",
        "faturamento_loja.append(soma_por_coluna(loja2, 'Preço'))\n",
        "faturamento_loja.append(soma_por_coluna(loja3, 'Preço'))\n",
        "faturamento_loja.append(soma_por_coluna(loja4, 'Preço'))\n",
        "\n",
        "for i, valor in enumerate(faturamento_loja, start=1):\n",
        "    print(f'Faturamento da loja {i}: R$ {valor:.2f}')\n",
        "\n",
        "total = sum(faturamento_loja)\n",
        "print(f'\\nFaturamento total das lojas: R$ {total:.2f}')\n"
      ],
      "metadata": {
        "id": "xykobSftV64I",
        "colab": {
          "base_uri": "https://localhost:8080/"
        },
        "outputId": "dc5f8de3-975a-4066-98cf-01348d4e4f61"
      },
      "execution_count": 44,
      "outputs": [
        {
          "output_type": "stream",
          "name": "stdout",
          "text": [
            "Faturamento da loja 1: R$ 1534509.12\n",
            "Faturamento da loja 2: R$ 1488459.06\n",
            "Faturamento da loja 3: R$ 1464025.03\n",
            "Faturamento da loja 4: R$ 1384497.58\n",
            "\n",
            "Faturamento total das lojas: R$ 5871490.79\n"
          ]
        }
      ]
    },
    {
      "cell_type": "code",
      "source": [],
      "metadata": {
        "id": "KDyr8E71V3m-"
      },
      "execution_count": null,
      "outputs": []
    },
    {
      "cell_type": "markdown",
      "source": [
        "# 2. Vendas por Categoria\n"
      ],
      "metadata": {
        "id": "2V_vcAPzWZmR"
      }
    },
    {
      "cell_type": "code",
      "source": [],
      "metadata": {
        "id": "A34YupIuYhfF"
      },
      "execution_count": null,
      "outputs": []
    },
    {
      "cell_type": "code",
      "source": [],
      "metadata": {
        "id": "yZR6cOjXYSk1"
      },
      "execution_count": null,
      "outputs": []
    },
    {
      "cell_type": "markdown",
      "source": [
        "# 3. Média de Avaliação das Lojas"
      ],
      "metadata": {
        "id": "Rq6tU_xSY3jk"
      }
    },
    {
      "cell_type": "code",
      "source": [],
      "metadata": {
        "id": "bh3jjjJwY5MU"
      },
      "execution_count": null,
      "outputs": []
    },
    {
      "cell_type": "code",
      "source": [],
      "metadata": {
        "id": "I0KkjPoTY88F"
      },
      "execution_count": null,
      "outputs": []
    },
    {
      "cell_type": "markdown",
      "source": [
        "# 4. Produtos Mais e Menos Vendidos"
      ],
      "metadata": {
        "id": "DmNp1KPBZCm-"
      }
    },
    {
      "cell_type": "code",
      "source": [],
      "metadata": {
        "id": "qoyjqijQZHfF"
      },
      "execution_count": null,
      "outputs": []
    },
    {
      "cell_type": "code",
      "source": [],
      "metadata": {
        "id": "0Sw3sd4IZIGW"
      },
      "execution_count": null,
      "outputs": []
    },
    {
      "cell_type": "markdown",
      "source": [
        "# 5. Frete Médio por Loja\n"
      ],
      "metadata": {
        "id": "Fl0cGi3bZKqU"
      }
    },
    {
      "cell_type": "code",
      "source": [],
      "metadata": {
        "id": "S2JeaCykZNy9"
      },
      "execution_count": null,
      "outputs": []
    },
    {
      "cell_type": "code",
      "source": [],
      "metadata": {
        "id": "0tSdCie9ZQlt"
      },
      "execution_count": null,
      "outputs": []
    }
  ]
}