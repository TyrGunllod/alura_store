{
  "nbformat": 4,
  "nbformat_minor": 0,
  "metadata": {
    "colab": {
      "provenance": [],
      "include_colab_link": true
    },
    "kernelspec": {
      "name": "python3",
      "display_name": "Python 3"
    },
    "language_info": {
      "name": "python"
    }
  },
  "cells": [
    {
      "cell_type": "markdown",
      "metadata": {
        "id": "view-in-github",
        "colab_type": "text"
      },
      "source": [
        "<a href=\"https://colab.research.google.com/github/TyrGunllod/alura_store/blob/main/AluraStoreBr.ipynb\" target=\"_parent\"><img src=\"https://colab.research.google.com/assets/colab-badge.svg\" alt=\"Open In Colab\"/></a>"
      ]
    },
    {
      "cell_type": "markdown",
      "source": [
        "### Importação dos dados\n",
        "\n"
      ],
      "metadata": {
        "id": "RhEdWd9YUR6H"
      }
    },
    {
      "cell_type": "code",
      "execution_count": 21,
      "metadata": {
        "id": "T3EvaeQ_INIL"
      },
      "outputs": [],
      "source": [
        "import pandas as pd\n",
        "\n",
        "url = \"https://raw.githubusercontent.com/TyrGunllod/alura_store/refs/heads/main/dados_lojas/loja_1.csv\"\n",
        "url2 = \"https://raw.githubusercontent.com/TyrGunllod/alura_store/refs/heads/main/dados_lojas/loja_2.csv\"\n",
        "url3 = \"https://raw.githubusercontent.com/TyrGunllod/alura_store/refs/heads/main/dados_lojas/loja_3.csv\"\n",
        "url4 = \"https://raw.githubusercontent.com/TyrGunllod/alura_store/refs/heads/main/dados_lojas/loja_4.csv\"\n",
        "\n",
        "lojas = []\n",
        "lojas.append(pd.read_csv(url))\n",
        "lojas.append(pd.read_csv(url2))\n",
        "lojas.append(pd.read_csv(url3))\n",
        "lojas.append(pd.read_csv(url4))"
      ]
    },
    {
      "cell_type": "markdown",
      "source": [
        "Funções"
      ],
      "metadata": {
        "id": "ntMIfqlxG1d0"
      }
    },
    {
      "cell_type": "code",
      "source": [
        "def soma_por_coluna(arquivo, coluna):\n",
        "    soma = arquivo[coluna].sum()\n",
        "    return soma\n",
        "\n",
        "def media_por_coluna(arquivo, coluna):\n",
        "    media_valor = round(arquivo[coluna].mean(), 2)\n",
        "    return media_valor\n",
        "\n",
        "def soma_por_categoria(arquivo, coluna):\n",
        "    soma = arquivo.groupby(coluna)[\"Preço\"].sum().sort_values(ascending=False)\n",
        "    return soma\n",
        "\n",
        "def soma_produtos_tipo(arquivo, coluna):\n",
        "    qt_produtos_tipo = arquivo.groupby(coluna).size().sort_values(ascending=False)\n",
        "    return qt_produtos_tipo"
      ],
      "metadata": {
        "id": "zERZhWUGZulS"
      },
      "execution_count": 22,
      "outputs": []
    },
    {
      "cell_type": "code",
      "source": [],
      "metadata": {
        "id": "y7QrToxWGzI8"
      },
      "execution_count": null,
      "outputs": []
    },
    {
      "cell_type": "markdown",
      "source": [
        "#1. Análise do faturamento\n"
      ],
      "metadata": {
        "id": "X62IW3KFUIYm"
      }
    },
    {
      "cell_type": "code",
      "source": [
        "faturamento_loja = []\n",
        "\n",
        "for i in range(len(lojas)):\n",
        "    faturamento_loja.append(soma_por_coluna(lojas[i], 'Preço'))\n",
        "\n",
        "for i, valor in enumerate(faturamento_loja, start=1):\n",
        "    print(f'Faturamento da loja {i}: R$ {valor:.2f}')\n",
        "\n",
        "total = sum(faturamento_loja)\n",
        "print(f'\\nFaturamento total das lojas: R$ {total:.2f}')"
      ],
      "metadata": {
        "id": "xykobSftV64I",
        "colab": {
          "base_uri": "https://localhost:8080/"
        },
        "outputId": "8414d4de-4678-49ad-f0bc-8a0de7fc5360"
      },
      "execution_count": 23,
      "outputs": [
        {
          "output_type": "stream",
          "name": "stdout",
          "text": [
            "Faturamento da loja 1: R$ 1534509.12\n",
            "Faturamento da loja 2: R$ 1488459.06\n",
            "Faturamento da loja 3: R$ 1464025.03\n",
            "Faturamento da loja 4: R$ 1384497.58\n",
            "\n",
            "Faturamento total das lojas: R$ 5871490.79\n"
          ]
        }
      ]
    },
    {
      "cell_type": "code",
      "source": [],
      "metadata": {
        "id": "KDyr8E71V3m-"
      },
      "execution_count": null,
      "outputs": []
    },
    {
      "cell_type": "markdown",
      "source": [
        "# 2. Vendas por Categoria\n"
      ],
      "metadata": {
        "id": "2V_vcAPzWZmR"
      }
    },
    {
      "cell_type": "code",
      "source": [
        "vendas_categoria = []\n",
        "\n",
        "for i in range(len(lojas)):\n",
        "    vendas_categoria.append(soma_por_categoria(lojas[i], 'Categoria do Produto'))\n",
        "\n",
        "for i, categoria in enumerate(vendas_categoria, start=1):\n",
        "    print(f'\\nFaturamento por categoria - Loja {i}:\\n')\n",
        "    for nome_categoria, total in categoria.items():\n",
        "        print(f' - {nome_categoria}: R$ {total:.2f}')\n",
        "    print()  # Linha em branco entre as lojas"
      ],
      "metadata": {
        "id": "A34YupIuYhfF",
        "colab": {
          "base_uri": "https://localhost:8080/"
        },
        "outputId": "e06b4a89-2411-4ea7-e7f5-b46c90b79f5b"
      },
      "execution_count": 24,
      "outputs": [
        {
          "output_type": "stream",
          "name": "stdout",
          "text": [
            "\n",
            "Faturamento por categoria - Loja 1:\n",
            "\n",
            " - eletronicos: R$ 572659.23\n",
            " - eletrodomesticos: R$ 484913.36\n",
            " - moveis: R$ 250178.11\n",
            " - instrumentos musicais: R$ 121731.69\n",
            " - esporte e lazer: R$ 52387.55\n",
            " - brinquedos: R$ 23993.78\n",
            " - utilidades domesticas: R$ 16931.48\n",
            " - livros: R$ 11713.92\n",
            "\n",
            "\n",
            "Faturamento por categoria - Loja 2:\n",
            "\n",
            " - eletronicos: R$ 547773.71\n",
            " - eletrodomesticos: R$ 464758.13\n",
            " - moveis: R$ 235234.68\n",
            " - instrumentos musicais: R$ 139987.03\n",
            " - esporte e lazer: R$ 46326.09\n",
            " - brinquedos: R$ 21262.21\n",
            " - utilidades domesticas: R$ 19662.86\n",
            " - livros: R$ 13454.35\n",
            "\n",
            "\n",
            "Faturamento por categoria - Loja 3:\n",
            "\n",
            " - eletronicos: R$ 547699.92\n",
            " - eletrodomesticos: R$ 438984.89\n",
            " - moveis: R$ 268095.56\n",
            " - instrumentos musicais: R$ 103174.45\n",
            " - esporte e lazer: R$ 47456.10\n",
            " - brinquedos: R$ 25869.20\n",
            " - utilidades domesticas: R$ 20080.21\n",
            " - livros: R$ 12664.70\n",
            "\n",
            "\n",
            "Faturamento por categoria - Loja 4:\n",
            "\n",
            " - eletronicos: R$ 545966.86\n",
            " - eletrodomesticos: R$ 377680.65\n",
            " - moveis: R$ 256705.65\n",
            " - instrumentos musicais: R$ 100136.50\n",
            " - esporte e lazer: R$ 44465.65\n",
            " - brinquedos: R$ 27015.67\n",
            " - utilidades domesticas: R$ 20098.83\n",
            " - livros: R$ 12427.77\n",
            "\n"
          ]
        }
      ]
    },
    {
      "cell_type": "code",
      "source": [],
      "metadata": {
        "id": "yZR6cOjXYSk1"
      },
      "execution_count": null,
      "outputs": []
    },
    {
      "cell_type": "markdown",
      "source": [
        "# 3. Média de Avaliação das Lojas"
      ],
      "metadata": {
        "id": "Rq6tU_xSY3jk"
      }
    },
    {
      "cell_type": "code",
      "source": [
        "media_avaliacoes = []\n",
        "\n",
        "for i in range(len(lojas)):\n",
        "    media_avaliacoes.append(media_por_coluna(lojas[i], 'Avaliação da compra'))\n",
        "\n",
        "for i, media in enumerate(media_avaliacoes, start=1):\n",
        "    print(f'Média das avaliações da loja {i}: {media:.2f}/5.0')\n",
        "print()  # Linha em branco entre as lojas\n"
      ],
      "metadata": {
        "id": "bh3jjjJwY5MU",
        "colab": {
          "base_uri": "https://localhost:8080/"
        },
        "outputId": "3b4a9f47-fef2-4ab4-e8f9-5dc33ad32f24"
      },
      "execution_count": 25,
      "outputs": [
        {
          "output_type": "stream",
          "name": "stdout",
          "text": [
            "Média das avaliações da loja 1: 3.98/5.0\n",
            "Média das avaliações da loja 2: 4.04/5.0\n",
            "Média das avaliações da loja 3: 4.05/5.0\n",
            "Média das avaliações da loja 4: 4.00/5.0\n",
            "\n"
          ]
        }
      ]
    },
    {
      "cell_type": "code",
      "source": [],
      "metadata": {
        "id": "I0KkjPoTY88F"
      },
      "execution_count": null,
      "outputs": []
    },
    {
      "cell_type": "markdown",
      "source": [
        "# 4. Produtos Mais e Menos Vendidos"
      ],
      "metadata": {
        "id": "DmNp1KPBZCm-"
      }
    },
    {
      "cell_type": "code",
      "source": [
        "produtos_vendidos = []\n",
        "\n",
        "for i in range(len(lojas)):\n",
        "    produtos_vendidos.append(soma_produtos_tipo(lojas[i], 'Produto'))\n",
        "\n",
        "for i, produto in enumerate(produtos_vendidos, start=1):\n",
        "    print(f'Produtos vendidos da loja {i}:\\n')\n",
        "    for nome_produto, qtd in produto.items():\n",
        "        print(f' - {nome_produto}: {qtd}')\n",
        "    print()  # Linha em branco entre as lojas\n",
        "\n",
        "\n",
        "for i, df_produtos in enumerate(produtos_vendidos, start=1):\n",
        "    produto_mais_vendido = df_produtos.idxmax()\n",
        "    qtd_mais_vendido = df_produtos.max()\n",
        "\n",
        "    produto_menos_vendido = df_produtos.idxmin()\n",
        "    qtd_menos_vendido = df_produtos.min()\n",
        "\n",
        "    print(f'Loja {i}:')\n",
        "    print(f'  Mais vendido: {produto_mais_vendido} - {qtd_mais_vendido} unidades.')\n",
        "    print(f'  Menos vendido: {produto_menos_vendido} - {qtd_menos_vendido} unidades.\\n')\n"
      ],
      "metadata": {
        "id": "qoyjqijQZHfF",
        "colab": {
          "base_uri": "https://localhost:8080/"
        },
        "outputId": "d00f9e03-40b0-47ed-f3d3-af5b5419beeb"
      },
      "execution_count": 26,
      "outputs": [
        {
          "output_type": "stream",
          "name": "stdout",
          "text": [
            "Produtos vendidos da loja 1:\n",
            "\n",
            " - TV Led UHD 4K: 60\n",
            " - Micro-ondas: 60\n",
            " - Guarda roupas: 60\n",
            " - Secadora de roupas: 58\n",
            " - Blocos de montar: 56\n",
            " - Cômoda: 56\n",
            " - Bola de basquete: 55\n",
            " - Bicicleta: 54\n",
            " - Copo térmico: 54\n",
            " - Geladeira: 54\n",
            " - Impressora: 54\n",
            " - Bateria: 53\n",
            " - Faqueiro: 52\n",
            " - Carrinho controle remoto: 52\n",
            " - Modelagem preditiva: 51\n",
            " - Fone de ouvido: 50\n",
            " - Celular Plus X42: 49\n",
            " - Xadrez de madeira: 49\n",
            " - Lava louças: 48\n",
            " - Lavadora de roupas: 47\n",
            " - Guitarra: 47\n",
            " - Cadeira de escritório: 46\n",
            " - Sofá retrátil: 46\n",
            " - Violão: 46\n",
            " - Fogão: 45\n",
            " - Smart TV: 44\n",
            " - Mesa de centro: 44\n",
            " - Cama box: 44\n",
            " - Cama king: 44\n",
            " - Kit banquetas: 44\n",
            " - Cubo mágico 8x8: 44\n",
            " - Jogo de tabuleiro: 43\n",
            " - Jogo de panelas: 43\n",
            " - Smartwatch: 43\n",
            " - Dashboards com Power BI: 42\n",
            " - Tablet ABXY: 42\n",
            " - Bola de vôlei: 42\n",
            " - Iniciando em programação: 41\n",
            " - Jogo de copos: 41\n",
            " - Poltrona: 41\n",
            " - Assistente virtual: 40\n",
            " - Corda de pular: 40\n",
            " - Boneca bebê: 40\n",
            " - Mesa de jantar: 40\n",
            " - Dinossauro Rex: 40\n",
            " - Mochila: 39\n",
            " - Ciência de dados com python: 39\n",
            " - Pandeiro: 36\n",
            " - Panela de pressão: 35\n",
            " - Celular ABXY: 33\n",
            " - Headset: 33\n",
            "\n",
            "Produtos vendidos da loja 2:\n",
            "\n",
            " - Iniciando em programação: 65\n",
            " - Micro-ondas: 62\n",
            " - Bateria: 61\n",
            " - Violão: 58\n",
            " - Pandeiro: 58\n",
            " - Secadora de roupas: 57\n",
            " - Celular Plus X42: 55\n",
            " - Guarda roupas: 54\n",
            " - Blocos de montar: 54\n",
            " - Jogo de panelas: 52\n",
            " - Corda de pular: 50\n",
            " - Geladeira: 49\n",
            " - Cadeira de escritório: 49\n",
            " - Lavadora de roupas: 49\n",
            " - Boneca bebê: 48\n",
            " - Carrinho controle remoto: 47\n",
            " - Cama box: 47\n",
            " - Guitarra: 47\n",
            " - Copo térmico: 47\n",
            " - Lava louças: 46\n",
            " - Bola de vôlei: 46\n",
            " - Jogo de copos: 46\n",
            " - Modelagem preditiva: 46\n",
            " - Xadrez de madeira: 45\n",
            " - Kit banquetas: 45\n",
            " - Cama king: 45\n",
            " - Cubo mágico 8x8: 45\n",
            " - Bicicleta: 45\n",
            " - Mesa de centro: 45\n",
            " - TV Led UHD 4K: 45\n",
            " - Mochila: 45\n",
            " - Tablet ABXY: 44\n",
            " - Cômoda: 44\n",
            " - Panela de pressão: 44\n",
            " - Smartwatch: 44\n",
            " - Headset: 44\n",
            " - Sofá retrátil: 44\n",
            " - Dashboards com Power BI: 43\n",
            " - Ciência de dados com python: 43\n",
            " - Fogão: 42\n",
            " - Dinossauro Rex: 42\n",
            " - Bola de basquete: 42\n",
            " - Celular ABXY: 41\n",
            " - Smart TV: 40\n",
            " - Faqueiro: 39\n",
            " - Assistente virtual: 38\n",
            " - Fone de ouvido: 37\n",
            " - Poltrona: 35\n",
            " - Impressora: 34\n",
            " - Mesa de jantar: 34\n",
            " - Jogo de tabuleiro: 32\n",
            "\n",
            "Produtos vendidos da loja 3:\n",
            "\n",
            " - Kit banquetas: 57\n",
            " - Mesa de jantar: 56\n",
            " - Cama king: 56\n",
            " - Cômoda: 55\n",
            " - Jogo de panelas: 55\n",
            " - Smart TV: 54\n",
            " - Fogão: 53\n",
            " - Modelagem preditiva: 53\n",
            " - Corda de pular: 53\n",
            " - Bicicleta: 52\n",
            " - Carrinho controle remoto: 52\n",
            " - Jogo de tabuleiro: 52\n",
            " - Lava louças: 52\n",
            " - Pandeiro: 51\n",
            " - Bola de basquete: 50\n",
            " - Geladeira: 50\n",
            " - Impressora: 50\n",
            " - Guarda roupas: 49\n",
            " - Bola de vôlei: 48\n",
            " - Tablet ABXY: 48\n",
            " - Panela de pressão: 47\n",
            " - Violão: 47\n",
            " - Poltrona: 47\n",
            " - Xadrez de madeira: 47\n",
            " - Smartwatch: 46\n",
            " - Iniciando em programação: 46\n",
            " - Dinossauro Rex: 46\n",
            " - Cadeira de escritório: 46\n",
            " - Cama box: 46\n",
            " - Ciência de dados com python: 46\n",
            " - Celular Plus X42: 46\n",
            " - Sofá retrátil: 45\n",
            " - Secadora de roupas: 45\n",
            " - Celular ABXY: 44\n",
            " - Cubo mágico 8x8: 44\n",
            " - Fone de ouvido: 43\n",
            " - TV Led UHD 4K: 42\n",
            " - Mesa de centro: 42\n",
            " - Lavadora de roupas: 42\n",
            " - Bateria: 41\n",
            " - Dashboards com Power BI: 40\n",
            " - Boneca bebê: 39\n",
            " - Assistente virtual: 39\n",
            " - Headset: 39\n",
            " - Faqueiro: 39\n",
            " - Guitarra: 38\n",
            " - Copo térmico: 38\n",
            " - Micro-ondas: 36\n",
            " - Jogo de copos: 36\n",
            " - Mochila: 36\n",
            " - Blocos de montar: 35\n",
            "\n",
            "Produtos vendidos da loja 4:\n",
            "\n",
            " - Cama box: 62\n",
            " - Faqueiro: 59\n",
            " - Cama king: 56\n",
            " - Dashboards com Power BI: 56\n",
            " - Cômoda: 55\n",
            " - Mesa de jantar: 55\n",
            " - Carrinho controle remoto: 55\n",
            " - Blocos de montar: 54\n",
            " - Smart TV: 54\n",
            " - Pandeiro: 52\n",
            " - Assistente virtual: 50\n",
            " - Bola de basquete: 50\n",
            " - Jogo de panelas: 50\n",
            " - Impressora: 50\n",
            " - Modelagem preditiva: 50\n",
            " - Copo térmico: 48\n",
            " - Bateria: 48\n",
            " - Celular Plus X42: 48\n",
            " - Bola de vôlei: 48\n",
            " - Micro-ondas: 48\n",
            " - Jogo de tabuleiro: 48\n",
            " - Boneca bebê: 48\n",
            " - Fogão: 47\n",
            " - Sofá retrátil: 47\n",
            " - Cubo mágico 8x8: 47\n",
            " - Dinossauro Rex: 47\n",
            " - Jogo de copos: 46\n",
            " - Panela de pressão: 46\n",
            " - Bicicleta: 45\n",
            " - Poltrona: 45\n",
            " - Tablet ABXY: 45\n",
            " - Fone de ouvido: 44\n",
            " - Mesa de centro: 44\n",
            " - Mochila: 43\n",
            " - Corda de pular: 43\n",
            " - Lava louças: 43\n",
            " - Iniciando em programação: 43\n",
            " - Headset: 42\n",
            " - Kit banquetas: 42\n",
            " - TV Led UHD 4K: 40\n",
            " - Secadora de roupas: 40\n",
            " - Cadeira de escritório: 40\n",
            " - Celular ABXY: 39\n",
            " - Xadrez de madeira: 39\n",
            " - Smartwatch: 39\n",
            " - Ciência de dados com python: 38\n",
            " - Geladeira: 38\n",
            " - Lavadora de roupas: 38\n",
            " - Violão: 37\n",
            " - Guarda roupas: 34\n",
            " - Guitarra: 33\n",
            "\n",
            "Loja 1:\n",
            "  Mais vendido: TV Led UHD 4K - 60 unidades.\n",
            "  Menos vendido: Celular ABXY - 33 unidades.\n",
            "\n",
            "Loja 2:\n",
            "  Mais vendido: Iniciando em programação - 65 unidades.\n",
            "  Menos vendido: Jogo de tabuleiro - 32 unidades.\n",
            "\n",
            "Loja 3:\n",
            "  Mais vendido: Kit banquetas - 57 unidades.\n",
            "  Menos vendido: Blocos de montar - 35 unidades.\n",
            "\n",
            "Loja 4:\n",
            "  Mais vendido: Cama box - 62 unidades.\n",
            "  Menos vendido: Guitarra - 33 unidades.\n",
            "\n"
          ]
        }
      ]
    },
    {
      "cell_type": "code",
      "source": [],
      "metadata": {
        "id": "0Sw3sd4IZIGW"
      },
      "execution_count": null,
      "outputs": []
    },
    {
      "cell_type": "markdown",
      "source": [
        "# 5. Frete Médio por Loja\n"
      ],
      "metadata": {
        "id": "Fl0cGi3bZKqU"
      }
    },
    {
      "cell_type": "code",
      "source": [
        "frete_medio = []\n",
        "\n",
        "for i in range(len(lojas)):\n",
        "    frete_medio.append(media_por_coluna(lojas[i], 'Frete'))\n",
        "\n",
        "for i, media in enumerate(frete_medio, start=1):\n",
        "    print(f'Custo do frete médio da loja {i}: R${media:.2f}')"
      ],
      "metadata": {
        "id": "S2JeaCykZNy9",
        "colab": {
          "base_uri": "https://localhost:8080/"
        },
        "outputId": "6e02d946-0fe7-424f-a6b3-5c1817f5600f"
      },
      "execution_count": 27,
      "outputs": [
        {
          "output_type": "stream",
          "name": "stdout",
          "text": [
            "Custo do frete médio da loja 1: R$34.69\n",
            "Custo do frete médio da loja 2: R$33.62\n",
            "Custo do frete médio da loja 3: R$33.07\n",
            "Custo do frete médio da loja 4: R$31.28\n"
          ]
        }
      ]
    },
    {
      "cell_type": "code",
      "source": [],
      "metadata": {
        "id": "0tSdCie9ZQlt"
      },
      "execution_count": null,
      "outputs": []
    }
  ]
}